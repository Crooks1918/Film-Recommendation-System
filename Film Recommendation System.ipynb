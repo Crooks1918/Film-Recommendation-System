{
 "cells": [
  {
   "cell_type": "markdown",
   "id": "00eb47ea-a217-499a-8a45-299138109535",
   "metadata": {},
   "source": [
    "# Film Recommendation System"
   ]
  },
  {
   "cell_type": "markdown",
   "id": "0e4c8f88-3815-4f1e-b745-4c53ee6347bb",
   "metadata": {},
   "source": [
    "## Importing Libaries and Data"
   ]
  },
  {
   "cell_type": "code",
   "execution_count": 1,
   "id": "56411029-438a-474d-88bb-e6bd916f8f46",
   "metadata": {},
   "outputs": [],
   "source": [
    "import pandas as pd\n",
    "import numpy as np\n",
    "import matplotlib.pyplot as plt\n",
    "\n",
    "#Import TfIdfVectorizer from scikit-learn\n",
    "from sklearn.feature_extraction.text import TfidfVectorizer\n",
    "\n",
    "# Import linear_kernel\n",
    "from sklearn.metrics.pairwise import linear_kernel\n",
    "\n",
    "# Import literal eval  \n",
    "from ast import literal_eval\n",
    "\n",
    "# Import CountVectorizer and create the count matrix\n",
    "from sklearn.feature_extraction.text import CountVectorizer\n",
    "\n",
    "# Compute the Cosine Similarity matrix based on the count_matrix\n",
    "from sklearn.metrics.pairwise import cosine_similarity"
   ]
  },
  {
   "cell_type": "code",
   "execution_count": 2,
   "id": "21bc8e3d-7a60-43fc-bd2c-05af29a802b3",
   "metadata": {},
   "outputs": [],
   "source": [
    "# reads file into df1 \n",
    "\n",
    "df1 = pd.read_csv('/Users/rhyscrooks/Desktop/Python/Data/tmdb_5000_credits.csv.zip')\n",
    "#df1.head()"
   ]
  },
  {
   "cell_type": "code",
   "execution_count": 3,
   "id": "aa747aff-8322-40e5-bb56-99eb8574fd08",
   "metadata": {
    "scrolled": true
   },
   "outputs": [],
   "source": [
    "# reads file into df2 \n",
    "\n",
    "df2 = pd.read_csv('/Users/rhyscrooks/Desktop/Python/Data/tmdb_movie_dataset_v11.csv')\n",
    "#df2.head() "
   ]
  },
  {
   "cell_type": "code",
   "execution_count": 4,
   "id": "b932c2f6-fd21-4899-a338-a6af3aef4eda",
   "metadata": {},
   "outputs": [],
   "source": [
    "# Must rename colums to match on 'id'\n",
    "\n",
    "# renames columns \n",
    "df1.columns = ['id', 'tittle', 'cast', 'crew'] \n",
    "\n",
    "# Joins dfs based on 'id' \n",
    "df2 = df2.merge(df1, on = 'id')\n",
    "#df2.head()"
   ]
  },
  {
   "cell_type": "code",
   "execution_count": 5,
   "id": "58c06ba2-c99e-475f-960d-feabdd3fd233",
   "metadata": {},
   "outputs": [
    {
     "name": "stdout",
     "output_type": "stream",
     "text": [
      "Index(['id', 'title', 'vote_average', 'vote_count', 'status', 'release_date',\n",
      "       'revenue', 'runtime', 'adult', 'backdrop_path', 'budget', 'homepage',\n",
      "       'imdb_id', 'original_language', 'original_title', 'overview',\n",
      "       'popularity', 'poster_path', 'tagline', 'genres',\n",
      "       'production_companies', 'production_countries', 'spoken_languages',\n",
      "       'keywords', 'tittle', 'cast', 'crew'],\n",
      "      dtype='object')\n"
     ]
    }
   ],
   "source": [
    "# prints a list of colum titles \n",
    "\n",
    "print(df2.columns)"
   ]
  },
  {
   "cell_type": "code",
   "execution_count": 6,
   "id": "cd621cce-8904-42f0-bf11-daafd159a428",
   "metadata": {},
   "outputs": [],
   "source": [
    "# Used list to remove unnecessary columns \n",
    "\n",
    "df = df2.drop(columns=['status', 'adult', 'backdrop_path', 'homepage', 'imdb_id', 'original_language', 'original_title', 'poster_path', 'production_countries', 'spoken_languages', 'tittle'])\n",
    "#print(len(df['id']))\n",
    "#df.head()"
   ]
  },
  {
   "cell_type": "markdown",
   "id": "0017e057-a8a6-4873-afc9-dbc1f4a91744",
   "metadata": {},
   "source": [
    "## Ranking by Ratings\n",
    "### Calculating Weighted Rating \n",
    "\n",
    "Rather than using vote average which is influenced by the number of votes we will use IMDB's weighted rating formula \n",
    "\n",
    "Weighted Rating (WR) = (v / (v + m)) * R + (m / (v + m)) * C\n",
    "\n",
    "where ...\n",
    "- R = average (mean) vote for the movie\n",
    "- v = number of votes \n",
    "- m = minimum number of votes (IMDB use 25,000)\n",
    "- C = average (mean) vote across dataset \n"
   ]
  },
  {
   "cell_type": "code",
   "execution_count": 7,
   "id": "764a523d-4164-48ac-96f0-9c4dc38a983a",
   "metadata": {},
   "outputs": [
    {
     "name": "stdout",
     "output_type": "stream",
     "text": [
      "6.3089376563803174\n"
     ]
    }
   ],
   "source": [
    "# calculating C \n",
    "\n",
    "C = df['vote_average'].mean()\n",
    "print(C)"
   ]
  },
  {
   "cell_type": "code",
   "execution_count": 8,
   "id": "a085074b-4616-487c-bc8f-6e121ea280b2",
   "metadata": {},
   "outputs": [
    {
     "name": "stdout",
     "output_type": "stream",
     "text": [
      "(11, 16)\n"
     ]
    }
   ],
   "source": [
    "# Calculating m \n",
    "\n",
    "m = 25000 \n",
    "\n",
    "# creates a copy of df of movies with a vote count greater than m\n",
    "movies_df = df.copy().loc[df['vote_count'] >= m]\n",
    "\n",
    "# .shape shows the number of columns and rows \n",
    "print(movies_df.shape)"
   ]
  },
  {
   "cell_type": "markdown",
   "id": "884d3056-0074-4da4-b982-f1fa41898929",
   "metadata": {},
   "source": [
    "##### Only 11 movies qualified for this criteria. Minimum number of votes needs to be re-calculated.  "
   ]
  },
  {
   "cell_type": "code",
   "execution_count": 9,
   "id": "2a934440-72a5-4d28-8a6e-c503ad190ca5",
   "metadata": {},
   "outputs": [
    {
     "name": "stdout",
     "output_type": "stream",
     "text": [
      "2456.25\n"
     ]
    }
   ],
   "source": [
    "# assigns m the 75th percentile (2456.25)\n",
    "\n",
    "m = df['vote_count'].quantile(0.75)\n",
    "print(m)"
   ]
  },
  {
   "cell_type": "code",
   "execution_count": 10,
   "id": "dd6f6419-ae63-4db9-90c0-d4288f5f8a98",
   "metadata": {},
   "outputs": [
    {
     "name": "stdout",
     "output_type": "stream",
     "text": [
      "Number of Eligible Movites: 1199\n"
     ]
    }
   ],
   "source": [
    "# creates a copy of df where vote count is greater than m (.loc selects 'vote_count' column)\n",
    "# prints the length of movies included in the new movies_df \n",
    "\n",
    "movies_df = df.copy().loc[df['vote_count'] >= m]\n",
    "print('Number of Eligible Movites:', len(movies_df['id']))"
   ]
  },
  {
   "cell_type": "code",
   "execution_count": 11,
   "id": "a2b4d78d-31e4-49d3-9d51-c8c345e37c33",
   "metadata": {},
   "outputs": [],
   "source": [
    "# Weighted rating function \n",
    "\n",
    "def weighted_rating(x, m=m, C=C): \n",
    "    v = x['vote_count']\n",
    "    R = x['vote_average']\n",
    "    return (v / (v + m)) * R + (m / (v + m) * C)"
   ]
  },
  {
   "cell_type": "markdown",
   "id": "e895b18f-632d-4148-bd69-dc09f9b21be7",
   "metadata": {},
   "source": [
    "### Calculating Weigthed Rating 'Score'"
   ]
  },
  {
   "cell_type": "code",
   "execution_count": 12,
   "id": "d2b3e14f-3318-4ee4-86a3-02473f43e91d",
   "metadata": {},
   "outputs": [
    {
     "data": {
      "text/html": [
       "<div>\n",
       "<style scoped>\n",
       "    .dataframe tbody tr th:only-of-type {\n",
       "        vertical-align: middle;\n",
       "    }\n",
       "\n",
       "    .dataframe tbody tr th {\n",
       "        vertical-align: top;\n",
       "    }\n",
       "\n",
       "    .dataframe thead th {\n",
       "        text-align: right;\n",
       "    }\n",
       "</style>\n",
       "<table border=\"1\" class=\"dataframe\">\n",
       "  <thead>\n",
       "    <tr style=\"text-align: right;\">\n",
       "      <th></th>\n",
       "      <th>title</th>\n",
       "      <th>vote_count</th>\n",
       "      <th>vote_average</th>\n",
       "      <th>score</th>\n",
       "      <th>popularity</th>\n",
       "    </tr>\n",
       "  </thead>\n",
       "  <tbody>\n",
       "    <tr>\n",
       "      <th>13</th>\n",
       "      <td>The Shawshank Redemption</td>\n",
       "      <td>24649</td>\n",
       "      <td>8.702</td>\n",
       "      <td>8.485143</td>\n",
       "      <td>122.610</td>\n",
       "    </tr>\n",
       "    <tr>\n",
       "      <th>43</th>\n",
       "      <td>The Godfather</td>\n",
       "      <td>18677</td>\n",
       "      <td>8.707</td>\n",
       "      <td>8.428281</td>\n",
       "      <td>158.448</td>\n",
       "    </tr>\n",
       "    <tr>\n",
       "      <th>2</th>\n",
       "      <td>The Dark Knight</td>\n",
       "      <td>30619</td>\n",
       "      <td>8.512</td>\n",
       "      <td>8.348395</td>\n",
       "      <td>130.643</td>\n",
       "    </tr>\n",
       "    <tr>\n",
       "      <th>8</th>\n",
       "      <td>Pulp Fiction</td>\n",
       "      <td>25893</td>\n",
       "      <td>8.488</td>\n",
       "      <td>8.299201</td>\n",
       "      <td>74.862</td>\n",
       "    </tr>\n",
       "    <tr>\n",
       "      <th>9</th>\n",
       "      <td>Forrest Gump</td>\n",
       "      <td>25409</td>\n",
       "      <td>8.477</td>\n",
       "      <td>8.285891</td>\n",
       "      <td>92.693</td>\n",
       "    </tr>\n",
       "    <tr>\n",
       "      <th>1</th>\n",
       "      <td>Interstellar</td>\n",
       "      <td>32571</td>\n",
       "      <td>8.417</td>\n",
       "      <td>8.269174</td>\n",
       "      <td>140.241</td>\n",
       "    </tr>\n",
       "    <tr>\n",
       "      <th>6</th>\n",
       "      <td>Fight Club</td>\n",
       "      <td>27238</td>\n",
       "      <td>8.438</td>\n",
       "      <td>8.261888</td>\n",
       "      <td>69.498</td>\n",
       "    </tr>\n",
       "    <tr>\n",
       "      <th>17</th>\n",
       "      <td>The Lord of the Rings: The Return of the King</td>\n",
       "      <td>22334</td>\n",
       "      <td>8.474</td>\n",
       "      <td>8.259483</td>\n",
       "      <td>99.276</td>\n",
       "    </tr>\n",
       "    <tr>\n",
       "      <th>86</th>\n",
       "      <td>Schindler's List</td>\n",
       "      <td>14594</td>\n",
       "      <td>8.573</td>\n",
       "      <td>8.246840</td>\n",
       "      <td>65.084</td>\n",
       "    </tr>\n",
       "    <tr>\n",
       "      <th>0</th>\n",
       "      <td>Inception</td>\n",
       "      <td>34495</td>\n",
       "      <td>8.364</td>\n",
       "      <td>8.227394</td>\n",
       "      <td>83.952</td>\n",
       "    </tr>\n",
       "    <tr>\n",
       "      <th>78</th>\n",
       "      <td>Spirited Away</td>\n",
       "      <td>14913</td>\n",
       "      <td>8.539</td>\n",
       "      <td>8.223639</td>\n",
       "      <td>68.024</td>\n",
       "    </tr>\n",
       "    <tr>\n",
       "      <th>68</th>\n",
       "      <td>The Green Mile</td>\n",
       "      <td>15937</td>\n",
       "      <td>8.507</td>\n",
       "      <td>8.213469</td>\n",
       "      <td>83.739</td>\n",
       "    </tr>\n",
       "    <tr>\n",
       "      <th>16</th>\n",
       "      <td>The Lord of the Rings: The Fellowship of the Ring</td>\n",
       "      <td>23323</td>\n",
       "      <td>8.402</td>\n",
       "      <td>8.202573</td>\n",
       "      <td>87.037</td>\n",
       "    </tr>\n",
       "    <tr>\n",
       "      <th>158</th>\n",
       "      <td>The Godfather Part II</td>\n",
       "      <td>11293</td>\n",
       "      <td>8.591</td>\n",
       "      <td>8.183318</td>\n",
       "      <td>64.753</td>\n",
       "    </tr>\n",
       "    <tr>\n",
       "      <th>28</th>\n",
       "      <td>The Lord of the Rings: The Two Towers</td>\n",
       "      <td>20274</td>\n",
       "      <td>8.385</td>\n",
       "      <td>8.160659</td>\n",
       "      <td>78.730</td>\n",
       "    </tr>\n",
       "    <tr>\n",
       "      <th>37</th>\n",
       "      <td>Se7en</td>\n",
       "      <td>19403</td>\n",
       "      <td>8.368</td>\n",
       "      <td>8.136630</td>\n",
       "      <td>53.521</td>\n",
       "    </tr>\n",
       "    <tr>\n",
       "      <th>71</th>\n",
       "      <td>The Empire Strikes Back</td>\n",
       "      <td>15773</td>\n",
       "      <td>8.400</td>\n",
       "      <td>8.118246</td>\n",
       "      <td>35.265</td>\n",
       "    </tr>\n",
       "    <tr>\n",
       "      <th>144</th>\n",
       "      <td>GoodFellas</td>\n",
       "      <td>11726</td>\n",
       "      <td>8.464</td>\n",
       "      <td>8.090761</td>\n",
       "      <td>83.570</td>\n",
       "    </tr>\n",
       "    <tr>\n",
       "      <th>45</th>\n",
       "      <td>Back to the Future</td>\n",
       "      <td>18442</td>\n",
       "      <td>8.314</td>\n",
       "      <td>8.078337</td>\n",
       "      <td>62.543</td>\n",
       "    </tr>\n",
       "    <tr>\n",
       "      <th>97</th>\n",
       "      <td>Whiplash</td>\n",
       "      <td>13891</td>\n",
       "      <td>8.381</td>\n",
       "      <td>8.069663</td>\n",
       "      <td>54.495</td>\n",
       "    </tr>\n",
       "  </tbody>\n",
       "</table>\n",
       "</div>"
      ],
      "text/plain": [
       "                                                 title  vote_count  \\\n",
       "13                            The Shawshank Redemption       24649   \n",
       "43                                       The Godfather       18677   \n",
       "2                                      The Dark Knight       30619   \n",
       "8                                         Pulp Fiction       25893   \n",
       "9                                         Forrest Gump       25409   \n",
       "1                                         Interstellar       32571   \n",
       "6                                           Fight Club       27238   \n",
       "17       The Lord of the Rings: The Return of the King       22334   \n",
       "86                                    Schindler's List       14594   \n",
       "0                                            Inception       34495   \n",
       "78                                       Spirited Away       14913   \n",
       "68                                      The Green Mile       15937   \n",
       "16   The Lord of the Rings: The Fellowship of the Ring       23323   \n",
       "158                              The Godfather Part II       11293   \n",
       "28               The Lord of the Rings: The Two Towers       20274   \n",
       "37                                               Se7en       19403   \n",
       "71                             The Empire Strikes Back       15773   \n",
       "144                                         GoodFellas       11726   \n",
       "45                                  Back to the Future       18442   \n",
       "97                                            Whiplash       13891   \n",
       "\n",
       "     vote_average     score  popularity  \n",
       "13          8.702  8.485143     122.610  \n",
       "43          8.707  8.428281     158.448  \n",
       "2           8.512  8.348395     130.643  \n",
       "8           8.488  8.299201      74.862  \n",
       "9           8.477  8.285891      92.693  \n",
       "1           8.417  8.269174     140.241  \n",
       "6           8.438  8.261888      69.498  \n",
       "17          8.474  8.259483      99.276  \n",
       "86          8.573  8.246840      65.084  \n",
       "0           8.364  8.227394      83.952  \n",
       "78          8.539  8.223639      68.024  \n",
       "68          8.507  8.213469      83.739  \n",
       "16          8.402  8.202573      87.037  \n",
       "158         8.591  8.183318      64.753  \n",
       "28          8.385  8.160659      78.730  \n",
       "37          8.368  8.136630      53.521  \n",
       "71          8.400  8.118246      35.265  \n",
       "144         8.464  8.090761      83.570  \n",
       "45          8.314  8.078337      62.543  \n",
       "97          8.381  8.069663      54.495  "
      ]
     },
     "execution_count": 12,
     "metadata": {},
     "output_type": "execute_result"
    }
   ],
   "source": [
    "# applies weighted_rating to movies_df \n",
    "\n",
    "movies_df['score'] = movies_df.apply(weighted_rating, axis = 1)\n",
    "\n",
    "# sorts movies_df into descending 'score' and re-assigns it to movies_df\n",
    "\n",
    "movies_df = movies_df.sort_values('score', ascending = False)\n",
    "\n",
    "# creates a movies_df sub table with only these column titles\n",
    "movies_df[['title', 'vote_count', 'vote_average', 'score', 'popularity']].head(20)\n"
   ]
  },
  {
   "cell_type": "markdown",
   "id": "7bdef77d-7fd4-43ab-9b63-d0b4cc06f180",
   "metadata": {},
   "source": [
    "## Ranked by Profit"
   ]
  },
  {
   "cell_type": "code",
   "execution_count": 13,
   "id": "1800b3c7-7d99-4409-bf94-18015070fb8e",
   "metadata": {},
   "outputs": [],
   "source": [
    "# Function to calculate profitability \n",
    "\n",
    "def profitability_calculator(x): \n",
    "    cost = x['budget'] \n",
    "    revenue = x['revenue'] \n",
    "    profit = revenue - cost\n",
    "    return (profit) "
   ]
  },
  {
   "cell_type": "code",
   "execution_count": 14,
   "id": "4b82ed9c-bb5c-49a9-b6b4-820ca1679f3a",
   "metadata": {},
   "outputs": [
    {
     "data": {
      "text/html": [
       "<div>\n",
       "<style scoped>\n",
       "    .dataframe tbody tr th:only-of-type {\n",
       "        vertical-align: middle;\n",
       "    }\n",
       "\n",
       "    .dataframe tbody tr th {\n",
       "        vertical-align: top;\n",
       "    }\n",
       "\n",
       "    .dataframe thead th {\n",
       "        text-align: right;\n",
       "    }\n",
       "</style>\n",
       "<table border=\"1\" class=\"dataframe\">\n",
       "  <thead>\n",
       "    <tr style=\"text-align: right;\">\n",
       "      <th></th>\n",
       "      <th>title</th>\n",
       "      <th>budget</th>\n",
       "      <th>revenue</th>\n",
       "      <th>profit</th>\n",
       "      <th>popularity</th>\n",
       "    </tr>\n",
       "  </thead>\n",
       "  <tbody>\n",
       "    <tr>\n",
       "      <th>3</th>\n",
       "      <td>Avatar</td>\n",
       "      <td>237000000</td>\n",
       "      <td>2923706026</td>\n",
       "      <td>2686706026</td>\n",
       "      <td>79.932</td>\n",
       "    </tr>\n",
       "    <tr>\n",
       "      <th>15</th>\n",
       "      <td>Titanic</td>\n",
       "      <td>200000000</td>\n",
       "      <td>2264162353</td>\n",
       "      <td>2064162353</td>\n",
       "      <td>102.348</td>\n",
       "    </tr>\n",
       "    <tr>\n",
       "      <th>36</th>\n",
       "      <td>Jurassic World</td>\n",
       "      <td>150000000</td>\n",
       "      <td>1671537444</td>\n",
       "      <td>1521537444</td>\n",
       "      <td>54.089</td>\n",
       "    </tr>\n",
       "    <tr>\n",
       "      <th>206</th>\n",
       "      <td>Furious 7</td>\n",
       "      <td>190000000</td>\n",
       "      <td>1515341399</td>\n",
       "      <td>1325341399</td>\n",
       "      <td>62.276</td>\n",
       "    </tr>\n",
       "    <tr>\n",
       "      <th>4</th>\n",
       "      <td>The Avengers</td>\n",
       "      <td>220000000</td>\n",
       "      <td>1518815515</td>\n",
       "      <td>1298815515</td>\n",
       "      <td>98.082</td>\n",
       "    </tr>\n",
       "  </tbody>\n",
       "</table>\n",
       "</div>"
      ],
      "text/plain": [
       "              title     budget     revenue      profit  popularity\n",
       "3            Avatar  237000000  2923706026  2686706026      79.932\n",
       "15          Titanic  200000000  2264162353  2064162353     102.348\n",
       "36   Jurassic World  150000000  1671537444  1521537444      54.089\n",
       "206       Furious 7  190000000  1515341399  1325341399      62.276\n",
       "4      The Avengers  220000000  1518815515  1298815515      98.082"
      ]
     },
     "execution_count": 14,
     "metadata": {},
     "output_type": "execute_result"
    }
   ],
   "source": [
    "# Apllies profitability calculator to movies_df \n",
    "movies_df['profit'] = movies_df.apply(profitability_calculator, axis=1)\n",
    "\n",
    "# sorts them in descending value and re-assigns it to movies_df\n",
    "movies_df = movies_df.sort_values('profit', ascending = False)\n",
    "\n",
    "# creates a sub table of only these columns \n",
    "movies_df[['title', 'budget', 'revenue', 'profit', 'popularity']].head()"
   ]
  },
  {
   "cell_type": "markdown",
   "id": "2151088e-657e-4192-aa54-c2b3fab22c3f",
   "metadata": {},
   "source": [
    "### Profitability graphs\n"
   ]
  },
  {
   "cell_type": "code",
   "execution_count": 15,
   "id": "f173eefe-c98f-46bb-a48d-ff91c1131119",
   "metadata": {},
   "outputs": [
    {
     "data": {
      "text/plain": [
       "Text(0.5, 1.0, '10 Most Profitable Movies')"
      ]
     },
     "execution_count": 15,
     "metadata": {},
     "output_type": "execute_result"
    },
    {
     "data": {
      "image/png": "[encoded data removed]",
      "text/plain": [
       "<Figure size 640x480 with 1 Axes>"
      ]
     },
     "metadata": {},
     "output_type": "display_data"
    }
   ],
   "source": [
    "# create new df that is just top 10 of movies_df \n",
    "top10 = movies_df.head(10) \n",
    "\n",
    "plt.barh(top10['title'], top10['profit'], align = 'center', color= 'purple')\n",
    "plt.xlabel('Profit (Billions)') \n",
    "plt.ylabel('Title')\n",
    "plt.title('10 Most Profitable Movies')"
   ]
  },
  {
   "cell_type": "code",
   "execution_count": 16,
   "id": "2294fd44-713d-499d-b41a-0d8ad261f680",
   "metadata": {},
   "outputs": [
    {
     "data": {
      "image/png": "[encoded data removed]",
      "text/plain": [
       "<Figure size 640x480 with 1 Axes>"
      ]
     },
     "metadata": {},
     "output_type": "display_data"
    }
   ],
   "source": [
    "# creates a sctter plot with score on x axis and profit on y axis \n",
    "\n",
    "plt.scatter(top10['score'], top10['profit']) \n",
    "\n",
    "plt.title('Weighted Score vs Profit') \n",
    "plt.xlabel('Weighted Score (Out of 10)') \n",
    "plt.ylabel('Profit (Billion)')\n",
    "\n",
    "# loop through top 1o rows of top 10 \n",
    "# place a text label on coordinates of 'score' and 'profit' and make the fontsize 6\n",
    "\n",
    "for i in range(len(top10)): \n",
    "    plt.text(movies_df['score'].iloc[i],movies_df['profit'].iloc[i], movies_df['title'].iloc[i], fontsize=6)"
   ]
  },
  {
   "cell_type": "markdown",
   "id": "0ba250e9-1f4f-4a11-8877-5bc016b73cd6",
   "metadata": {},
   "source": [
    "## Recomending based on 'Overview'\n",
    "\n",
    "We wont be using a minimun score and therefore can return to original 'df'. \n",
    "We need to generate numerical data from text in order to recomend by overview, cast, crew etc. \n",
    "\n",
    "### TF-IDF (term frequency-inverse document frequency) \n",
    "Term frequnecy (TF) = term instances/total instances \n",
    "inverse document frequency (IDF) = log(number of documents/documents with the term) \n",
    "the overall importance of the word is TF*IDF\n",
    "\n",
    "quantifies the importance of each word creating a matrix of movies (columns) and rows (words from all overviews). Common words are given less weight whereas uncommon words are given more weight. enables us to find similar movies based on plot. \n",
    "\n"
   ]
  },
  {
   "cell_type": "code",
   "execution_count": 17,
   "id": "96011ee9-6417-4475-98c2-a07a8b4f6870",
   "metadata": {},
   "outputs": [
    {
     "data": {
      "text/plain": [
       "(4796, 19848)"
      ]
     },
     "execution_count": 17,
     "metadata": {},
     "output_type": "execute_result"
    }
   ],
   "source": [
    "# converts text into a numerical matrix ignoring 'stopwords' \n",
    "# stopwords are common english words like the, and, or in \n",
    "\n",
    "tfidf = TfidfVectorizer(stop_words = 'english') \n",
    "\n",
    "# replace any NaN's in overview with a blank string \n",
    "\n",
    "df['overview'] = df['overview'].fillna('')\n",
    "\n",
    "# construct a tf-idf matrix by fitting and transforming the data \n",
    "tfidf_matrix = tfidf.fit_transform(df['overview']) \n",
    "\n",
    "# display shape of the matrix \n",
    "tfidf_matrix.shape"
   ]
  },
  {
   "cell_type": "markdown",
   "id": "2bc589db-322f-4c22-b0de-87206f0ee6ed",
   "metadata": {},
   "source": [
    "4796 movies with 19,848 different words"
   ]
  },
  {
   "attachments": {
    "228ec660-2ae7-4d0b-ae57-75d8dbb77ed6.png": {
     "image/png": "[encoded data removed]"
    },
    "7c3162da-87a6-4f7b-810f-e5f377ec00cb.png": {
     "image/png": "[encoded data removed]"
    }
   },
   "cell_type": "markdown",
   "id": "662b17f4-61f5-4dc7-a19b-3b45cd3465cc",
   "metadata": {},
   "source": [
    "### Scoring Similarity Between Words \n",
    "\n",
    "Cosine similarity is the most common method of scoring the similarity for TF-IDF and is not effected by the magnitude (length) of overviews. \n",
    "\n",
    "![image.png](attachment:7c3162da-87a6-4f7b-810f-e5f377ec00cb.png)![image.png](attachment:228ec660-2ae7-4d0b-ae57-75d8dbb77ed6.png)\n",
    "\n",
    "TF-IDF already gives us normalised vectors (scaled to magnitude of 1) therefore calculating the dot product will give us the cosine similarity using sklearns linear_kernel() \n"
   ]
  },
  {
   "cell_type": "code",
   "execution_count": 18,
   "id": "4735f222-32b5-45b7-81c1-b9c37f6dbef7",
   "metadata": {},
   "outputs": [
    {
     "name": "stdout",
     "output_type": "stream",
     "text": [
      "[[1.         0.         0.         ... 0.         0.         0.        ]\n",
      " [0.         1.         0.         ... 0.         0.         0.        ]\n",
      " [0.         0.         1.         ... 0.01885768 0.         0.01008918]\n",
      " ...\n",
      " [0.         0.         0.01885768 ... 1.         0.         0.        ]\n",
      " [0.         0.         0.         ... 0.         1.         0.        ]\n",
      " [0.         0.         0.01008918 ... 0.         0.         1.        ]]\n"
     ]
    }
   ],
   "source": [
    "# computign cosine similarity matrix \n",
    "\n",
    "csim = linear_kernel(tfidf_matrix, tfidf_matrix) \n",
    "print(csim)"
   ]
  },
  {
   "cell_type": "markdown",
   "id": "2723b28d-5e76-4ef1-b321-3e2225bf6b3a",
   "metadata": {},
   "source": [
    "We need a way to identify the index of the matrix using the title of the movie ... "
   ]
  },
  {
   "cell_type": "code",
   "execution_count": 19,
   "id": "33e7d190-e519-4056-a3c5-7c254a96311d",
   "metadata": {},
   "outputs": [
    {
     "name": "stdout",
     "output_type": "stream",
     "text": [
      "0\n"
     ]
    }
   ],
   "source": [
    "# Converts the 'title' of a film to it's index \n",
    "# Creates a dictionary style list (index, title) from the 'title' column. and then drop any duplicates \n",
    "\n",
    "indxs = pd.Series(df.index, index = df['title']).drop_duplicates() \n",
    "print(indxs['Inception'])"
   ]
  },
  {
   "cell_type": "markdown",
   "id": "31317676-c352-4142-a0f3-c9ba8dfc23c1",
   "metadata": {},
   "source": [
    "### Overview Recomender Function"
   ]
  },
  {
   "cell_type": "code",
   "execution_count": 20,
   "id": "9b23ab51-d7cb-4f06-a6a0-f013e8eb5d03",
   "metadata": {},
   "outputs": [],
   "source": [
    "# building funciton \n",
    "\n",
    "def get_recommendations(title, csim=csim):\n",
    "    # get index of title\n",
    "    idx = indxs[title] \n",
    "    \n",
    "    # Get similarity scores for all movies with that movie \n",
    "    # Create a list of similarity scores for all movies, enumerating them into a tuple (movie_index, sim_score) \n",
    "    sim_scores = list(enumerate(csim[idx])) \n",
    "    \n",
    "    # Ranks sim_scores in descending order \n",
    "    # 'key = lambda x:x[1]' uses tuple (idex, sim_score) position 1 to sort \n",
    "    # sorted() creates ascending order but 'reverse = True' reverses it into descending order \n",
    "    sim_scores = sorted(sim_scores, key=lambda x:x[1], reverse = True) \n",
    "\n",
    "    # First 1 will always be itself so must select the one after (positions 1:11) \n",
    "    sim_scores = sim_scores[1:11]\n",
    "    \n",
    "\n",
    "    # Collect indexes of top 10 sim_scores \n",
    "    # From each tuple in the list of tuples 'sim_scores' retrieve index from position 0 \n",
    "    movie_indices = [i[0] for i in sim_scores]\n",
    "\n",
    "    # return the 'title' from df by ilocing movie indices \n",
    "    return df['title'].iloc[movie_indices]"
   ]
  },
  {
   "cell_type": "code",
   "execution_count": 21,
   "id": "d2fe7e97-0d9f-4d87-a458-b183511b5bce",
   "metadata": {},
   "outputs": [
    {
     "data": {
      "text/plain": [
       "20              Avengers: Age of Ultron\n",
       "3624                            Plastic\n",
       "768                            Hercules\n",
       "2126                            Timecop\n",
       "4728                 This Thing of Ours\n",
       "3430                      The Corruptor\n",
       "1808    Wall Street: Money Never Sleeps\n",
       "1583         Team America: World Police\n",
       "422                           Allegiant\n",
       "255                         Snowpiercer\n",
       "Name: title, dtype: object"
      ]
     },
     "execution_count": 21,
     "metadata": {},
     "output_type": "execute_result"
    }
   ],
   "source": [
    "# title = input(\"Give me 10 similar movies to this movie ...\")\n",
    "\n",
    "get_recommendations('The Avengers')"
   ]
  },
  {
   "cell_type": "markdown",
   "id": "4046c6b2-45f9-4634-9117-3f6975847576",
   "metadata": {},
   "source": [
    "## Recommending based on Cast, Crew, Plot Keywords and Genre \n",
    "\n",
    "Some data is stringified, meaning the data is inside one big string. For example both cast and crew are one string containing a list of dictionaries whereas keywords and genres are just a regular list. The stringified data must be undone to access individual data. "
   ]
  },
  {
   "cell_type": "code",
   "execution_count": 22,
   "id": "bdcda52a-7149-4fb0-9f98-3346485fb523",
   "metadata": {},
   "outputs": [],
   "source": [
    "#print(df['cast'][0]) #stringified\n",
    "#print(df['crew'][0]) #stringified\n",
    "#print(df['keywords'][0]) #regular list\n",
    "#print(df['genres'][0]) #regular list\n",
    "\n",
    "#print('CAST', df['cast'][0], 'CREW', df['crew'][0], 'KEYWORDS', df['keywords'][0], 'GENRES', df['genres'][0])"
   ]
  },
  {
   "cell_type": "code",
   "execution_count": 23,
   "id": "df4f4c83-f208-4f60-b6a6-86092694be92",
   "metadata": {},
   "outputs": [],
   "source": [
    "# convert 'crew' and 'cast' from a stringified list of dictionaries into a list of dictionaries  \n",
    "\n",
    "features = ['crew', 'cast']\n",
    "for feature in features: \n",
    "    df[feature] = df[feature].apply(literal_eval)\n",
    "\n",
    "# All are now regular lists \n",
    "#print('CAST', df['cast'][0], 'CREW', df['crew'][0], 'KEYWORDS', df['keywords'][0], 'GENRES', df['genres'][0])"
   ]
  },
  {
   "cell_type": "code",
   "execution_count": 24,
   "id": "2017f81f-f810-425b-b81b-4b1e52c1c9e2",
   "metadata": {},
   "outputs": [],
   "source": [
    "# Get director fucntion. Careful of case, some have capitals some dont. must check. \n",
    "\n",
    "def get_director(x): \n",
    "\n",
    "    # for i (movie) in x (crew) \n",
    "    for i in x: \n",
    "\n",
    "        # if 'job' is 'Director' return 'name'\n",
    "        if i['job'] == 'Director': \n",
    "            return i['name'] \n",
    "            \n",
    "    # if no 'Director' return NaN - careful of indentation, we went it to run through all 'crew' not just the first variable \n",
    "    return np.nan\n",
    "\n",
    "# create a column called director where variable is equal to the \n",
    "df['director'] = df['crew'].apply(get_director)\n",
    "\n",
    "#print(df['director'])"
   ]
  },
  {
   "cell_type": "code",
   "execution_count": 25,
   "id": "61b2d803-6ee0-4369-844e-565a850ba060",
   "metadata": {},
   "outputs": [],
   "source": [
    "#print(df['cast'][12])"
   ]
  },
  {
   "cell_type": "code",
   "execution_count": 26,
   "id": "1ef40fd7-093b-4f9c-b9fa-75dccddb96ce",
   "metadata": {},
   "outputs": [],
   "source": [
    "# cast list \n",
    "\n",
    "def get_cast(x): \n",
    "\n",
    "    # check if its a list \n",
    "    if isinstance(x, list):\n",
    "\n",
    "        # if it is a list return 'names' \n",
    "        names = [i['name'] for i in x]\n",
    "\n",
    "        #if 'names' is longer than 3 return frist 3 names\n",
    "        if len(names) > 3: \n",
    "            return(names[:3])\n",
    "        return(names)\n",
    "\n",
    "# applies get_cast to cast column storing results in df as cast \n",
    "df['cast'] = df['cast'].apply(get_cast)\n",
    "#print(df['cast'][12])"
   ]
  },
  {
   "cell_type": "code",
   "execution_count": 27,
   "id": "cff626aa-dd9d-46d6-9725-a7d5a899d0f6",
   "metadata": {},
   "outputs": [],
   "source": [
    "# check class \n",
    "\n",
    "#print(df['keywords'][0]) #double checks if it is stringified\n",
    "#print(type(df['keywords'][0])) # checks class type"
   ]
  },
  {
   "cell_type": "code",
   "execution_count": 28,
   "id": "3f259d83-20fa-4c05-a097-d7c4193d202e",
   "metadata": {},
   "outputs": [],
   "source": [
    "def get_lists(x): \n",
    "\n",
    "    # checks if it is a\n",
    "    if isinstance(x, str): \n",
    "\n",
    "        # it is not a list, its one big string that must be sepearated\n",
    "        # seperate based on comma and store strings in words\n",
    "        words = x.split(',')\n",
    "\n",
    "        # return first 3 strings in words\n",
    "        return words[:3]\n",
    "\n",
    "    # return empty if it is not a string\n",
    "    return []"
   ]
  },
  {
   "cell_type": "markdown",
   "id": "46763a68-0990-44d2-a7a2-72c15d5c98fb",
   "metadata": {},
   "source": [
    "df['keywords'] = df['keywords'].apply(get_lists)\n",
    "#print(df['keywords'][12])\n",
    "df['genre'] = df['genres'].apply(get_lists)\n",
    "#print(df['genre'][12])"
   ]
  },
  {
   "cell_type": "code",
   "execution_count": 29,
   "id": "97bdf0c6-9bd7-432c-aa2f-9cd584a5d363",
   "metadata": {},
   "outputs": [],
   "source": [
    "# applies get lists to keywords and genres replacing the data with the output  \n",
    "\n",
    "features = ['keywords', 'genres'] \n",
    "for feature in features: \n",
    "    df[feature] = df[feature].apply(get_lists)"
   ]
  },
  {
   "cell_type": "code",
   "execution_count": 30,
   "id": "d08a14b2-ed91-4e90-a94f-dcb45068048d",
   "metadata": {},
   "outputs": [
    {
     "data": {
      "text/html": [
       "<div>\n",
       "<style scoped>\n",
       "    .dataframe tbody tr th:only-of-type {\n",
       "        vertical-align: middle;\n",
       "    }\n",
       "\n",
       "    .dataframe tbody tr th {\n",
       "        vertical-align: top;\n",
       "    }\n",
       "\n",
       "    .dataframe thead th {\n",
       "        text-align: right;\n",
       "    }\n",
       "</style>\n",
       "<table border=\"1\" class=\"dataframe\">\n",
       "  <thead>\n",
       "    <tr style=\"text-align: right;\">\n",
       "      <th></th>\n",
       "      <th>title</th>\n",
       "      <th>director</th>\n",
       "      <th>cast</th>\n",
       "      <th>genres</th>\n",
       "      <th>keywords</th>\n",
       "    </tr>\n",
       "  </thead>\n",
       "  <tbody>\n",
       "    <tr>\n",
       "      <th>0</th>\n",
       "      <td>Inception</td>\n",
       "      <td>Christopher Nolan</td>\n",
       "      <td>[Leonardo DiCaprio, Joseph Gordon-Levitt, Elle...</td>\n",
       "      <td>[Action,  Science Fiction,  Adventure]</td>\n",
       "      <td>[rescue,  mission,  dream]</td>\n",
       "    </tr>\n",
       "    <tr>\n",
       "      <th>1</th>\n",
       "      <td>Interstellar</td>\n",
       "      <td>Christopher Nolan</td>\n",
       "      <td>[Matthew McConaughey, Jessica Chastain, Anne H...</td>\n",
       "      <td>[Adventure,  Drama,  Science Fiction]</td>\n",
       "      <td>[rescue,  future,  spacecraft]</td>\n",
       "    </tr>\n",
       "    <tr>\n",
       "      <th>2</th>\n",
       "      <td>The Dark Knight</td>\n",
       "      <td>Christopher Nolan</td>\n",
       "      <td>[Christian Bale, Heath Ledger, Aaron Eckhart]</td>\n",
       "      <td>[Drama,  Action,  Crime]</td>\n",
       "      <td>[joker,  sadism,  chaos]</td>\n",
       "    </tr>\n",
       "  </tbody>\n",
       "</table>\n",
       "</div>"
      ],
      "text/plain": [
       "             title           director  \\\n",
       "0        Inception  Christopher Nolan   \n",
       "1     Interstellar  Christopher Nolan   \n",
       "2  The Dark Knight  Christopher Nolan   \n",
       "\n",
       "                                                cast  \\\n",
       "0  [Leonardo DiCaprio, Joseph Gordon-Levitt, Elle...   \n",
       "1  [Matthew McConaughey, Jessica Chastain, Anne H...   \n",
       "2      [Christian Bale, Heath Ledger, Aaron Eckhart]   \n",
       "\n",
       "                                   genres                        keywords  \n",
       "0  [Action,  Science Fiction,  Adventure]      [rescue,  mission,  dream]  \n",
       "1   [Adventure,  Drama,  Science Fiction]  [rescue,  future,  spacecraft]  \n",
       "2                [Drama,  Action,  Crime]        [joker,  sadism,  chaos]  "
      ]
     },
     "execution_count": 30,
     "metadata": {},
     "output_type": "execute_result"
    }
   ],
   "source": [
    "df[['title', 'director', 'cast', 'genres', 'keywords']].head(3)"
   ]
  },
  {
   "cell_type": "markdown",
   "id": "73f64caa-ecfb-4c69-a89c-3ae3ad89008e",
   "metadata": {},
   "source": [
    "### Cleaning Data \n",
    "\n",
    "We need convert all data to strings, that are uniform (all lowercase no whitespace) "
   ]
  },
  {
   "cell_type": "code",
   "execution_count": 31,
   "id": "f8329e64-ffad-4696-8ff5-2919671ed1a5",
   "metadata": {},
   "outputs": [],
   "source": [
    "def clean_data(x): \n",
    "    if isinstance(x, list): \n",
    "        return [str.lower(i.replace(\" \", \"\")) for i in x]\n",
    "    else: \n",
    "        if isinstance(x, str): \n",
    "            return str.lower(x.replace(\" \", \"\")) \n",
    "        else: \n",
    "            return ' ' "
   ]
  },
  {
   "cell_type": "code",
   "execution_count": 32,
   "id": "0d19e20e-80a8-43a4-9dea-6a50f604eb74",
   "metadata": {},
   "outputs": [],
   "source": [
    "features = ['cast', 'director', 'genres', 'keywords'] \n",
    "\n",
    "for feature in features: \n",
    "    df[feature] = df[feature].apply(clean_data)"
   ]
  },
  {
   "cell_type": "markdown",
   "id": "f1f2c3ea-6db1-4e4d-8a84-87b434009228",
   "metadata": {},
   "source": [
    "Now to create our metadata soup that we will feed to the vectorizer "
   ]
  },
  {
   "cell_type": "code",
   "execution_count": 33,
   "id": "0574ef94-ecc4-4b27-880d-8800fe4504e1",
   "metadata": {},
   "outputs": [],
   "source": [
    "def soup_creator(x): \n",
    "    return ' '.join(x['keywords']) + ' ' + ' '.join(x['cast']) + x['director'] + ' ' + ' '.join(x['genres'])\n",
    "\n",
    "df['soup'] = df.apply(soup_creator, axis=1) \n",
    "\n",
    "#print(df['soup'][0])"
   ]
  },
  {
   "cell_type": "code",
   "execution_count": 34,
   "id": "ba1c752d-1da0-4c9a-a6a2-1060411a42e6",
   "metadata": {},
   "outputs": [],
   "source": [
    "# text feature extraction similar to tf-idf but without weighting (tf-idf, down weights high frequency words, wouldnt make sense for director) \n",
    "# Discount common english words like 'and'\n",
    "# creates a matrix of how many times the word appears \n",
    "count = CountVectorizer(stop_words = 'english')\n",
    "\n",
    "# creates a count matrix with row as a film, column as words, and values as the frequency of that word \n",
    "# fit learns all the unique words (first use) \n",
    "# transfrom puts it into a matrix \n",
    "count_matrix = count.fit_transform(df['soup'])\n",
    "\n",
    "# measures the angle between vectors \n",
    "# ovies with more common data will have higher cosine similarity\n",
    "cosine_sim2 = cosine_similarity(count_matrix, count_matrix)\n",
    "\n",
    "# resets indices according to title \n",
    "df = df.reset_index()\n",
    "indices = pd.Series(df.index, index=df['title'])"
   ]
  },
  {
   "cell_type": "markdown",
   "id": "a2b4ec40-1340-4529-abea-7a6a9a31bbc6",
   "metadata": {},
   "source": [
    "### Test "
   ]
  },
  {
   "cell_type": "code",
   "execution_count": 35,
   "id": "ec8133bc-7f98-48a3-917e-0241e405d013",
   "metadata": {},
   "outputs": [
    {
     "data": {
      "text/plain": [
       "4794      Amidst the Devil's Wings\n",
       "34                   Batman Begins\n",
       "2                  The Dark Knight\n",
       "4637                Black November\n",
       "4369            Machine Gun McCain\n",
       "636     The Place Beyond the Pines\n",
       "699                 Public Enemies\n",
       "1494                     Unleashed\n",
       "2821    The Baader Meinhof Complex\n",
       "3169               The Glimmer Man\n",
       "Name: title, dtype: object"
      ]
     },
     "execution_count": 35,
     "metadata": {},
     "output_type": "execute_result"
    }
   ],
   "source": [
    "get_recommendations('The Dark Knight Rises', cosine_sim2)"
   ]
  },
  {
   "cell_type": "code",
   "execution_count": 36,
   "id": "d5a8a2ca-289c-4359-81a6-408a87e56e48",
   "metadata": {},
   "outputs": [
    {
     "data": {
      "text/plain": [
       "2154              Death Sentence\n",
       "4794    Amidst the Devil's Wings\n",
       "3314           The Son of No One\n",
       "158        The Godfather Part II\n",
       "533                  Stand by Me\n",
       "1386             Freedom Writers\n",
       "4023                     Beloved\n",
       "34                 Batman Begins\n",
       "68                The Green Mile\n",
       "77      The Silence of the Lambs\n",
       "Name: title, dtype: object"
      ]
     },
     "execution_count": 36,
     "metadata": {},
     "output_type": "execute_result"
    }
   ],
   "source": [
    "get_recommendations('The Godfather', cosine_sim2)"
   ]
  },
  {
   "cell_type": "markdown",
   "id": "eb6414a8-2a80-4f7b-b7d5-9a9f3f36142b",
   "metadata": {},
   "source": [
    "## Improvements \n",
    "\n",
    "Increase the weight of director and cast. Additionally it is probably more likely that people like films of the same production company, this could also be incoporated. "
   ]
  },
  {
   "cell_type": "code",
   "execution_count": null,
   "id": "38d219d2-3d66-421f-b75f-71716ed89470",
   "metadata": {},
   "outputs": [],
   "source": []
  }
 ],
 "metadata": {
  "kernelspec": {
   "display_name": "Python 3 (ipykernel)",
   "language": "python",
   "name": "python3"
  },
  "language_info": {
   "codemirror_mode": {
    "name": "ipython",
    "version": 3
   },
   "file_extension": ".py",
   "mimetype": "text/x-python",
   "name": "python",
   "nbconvert_exporter": "python",
   "pygments_lexer": "ipython3",
   "version": "3.12.4"
  }
 },
 "nbformat": 4,
 "nbformat_minor": 5
}
